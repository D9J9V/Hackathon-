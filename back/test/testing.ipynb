{
 "cells": [
  {
   "cell_type": "code",
   "execution_count": 1,
   "metadata": {},
   "outputs": [],
   "source": [
    "import os\n",
    "import openai\n",
    "import requests"
   ]
  },
  {
   "attachments": {},
   "cell_type": "markdown",
   "metadata": {},
   "source": [
    "## Traducción"
   ]
  },
  {
   "cell_type": "code",
   "execution_count": 2,
   "metadata": {},
   "outputs": [],
   "source": [
    "openai.api_key = \"\"\n",
    "\n",
    "response = openai.Completion.create(\n",
    "  model=\"text-davinci-003\",\n",
    "  prompt=\"Translate this into English:\\n\\n Hoy ha sido un día genial. Ha sido mi cumpleaños y para celebrarlo he pasado todo el día con mi familia y mis amigos. Por la mañana, me he levantado temprano para desayunar con mis padres y mi hermana Lola y me han preparado mi desayuno favorito: tortitas con fruta y chocolate. Después, hemos ido juntos al museo de las artes y las ciencias. Ha sido divertido. A la hora del almuerzo, hemos ido a mi restaurante favorito y ¡sorpresa! Todos mis amigos estaban allí. Me ha hecho muy feliz ver a toda la gente que quiero en el restaurante. Por la tarde, mis padres se han ido a casa y mis amigos, mi hermana y yo hemos ido al cine. Después, hemos ido todos a mi casa y nos hemos bañado en la piscina. Hemos pedido pizzas y hemos cenado en el jardín. A las once y media mis amigos se han tenido que ir y yo me he puesto a escribir un rato, pero ahora tengo sueño y voy a la cama también. Mañana te cuento más cosas. \\n\\n\",\n",
    "  temperature=0.3,\n",
    "  max_tokens=100,\n",
    "  top_p=1,\n",
    "  frequency_penalty=0,\n",
    "  presence_penalty=0\n",
    ")"
   ]
  },
  {
   "cell_type": "code",
   "execution_count": 5,
   "metadata": {},
   "outputs": [
    {
     "data": {
      "text/plain": [
       "['cmpl-6NvG3Nhr9avCEgH1DRDFGD0k6rp0y',\n",
       " 'text_completion',\n",
       " 1671159663,\n",
       " 'text-davinci-003',\n",
       " [<OpenAIObject at 0x117668bd0> JSON: {\n",
       "    \"finish_reason\": \"length\",\n",
       "    \"index\": 0,\n",
       "    \"logprobs\": null,\n",
       "    \"text\": \"\\nToday has been a great day. It's been my birthday and to celebrate I spent the whole day with my family and friends. In the morning, I got up early to have breakfast with my parents and my sister Lola and they prepared my favorite breakfast: pancakes with fruit and chocolate. Then, we all went together to the museum of arts and sciences. It was fun. At lunchtime, we went to my favorite restaurant and surprise! All my friends were there. It made me very\"\n",
       "  }],\n",
       " <OpenAIObject at 0x117678220> JSON: {\n",
       "   \"completion_tokens\": 100,\n",
       "   \"prompt_tokens\": 340,\n",
       "   \"total_tokens\": 440\n",
       " }]"
      ]
     },
     "execution_count": 5,
     "metadata": {},
     "output_type": "execute_result"
    }
   ],
   "source": [
    "list(response.values())"
   ]
  },
  {
   "cell_type": "code",
   "execution_count": 6,
   "metadata": {},
   "outputs": [],
   "source": [
    "text = list(response.values())[4][0][\"text\"]"
   ]
  },
  {
   "cell_type": "code",
   "execution_count": 19,
   "metadata": {},
   "outputs": [
    {
     "name": "stdout",
     "output_type": "stream",
     "text": [
      "\n",
      "Today has been a great day. It's been my birthday and to celebrate I spent the whole day with my family and friends. In the morning, I got up early to have breakfast with my parents and my sister Lola and they prepared my favorite breakfast: pancakes with fruit and chocolate. Then, we all went together to the museum of arts and sciences. It was fun. At lunchtime, we went to my favorite restaurant and surprise! All my friends were there. It made me very\n"
     ]
    }
   ],
   "source": [
    "print(text)"
   ]
  },
  {
   "attachments": {},
   "cell_type": "markdown",
   "metadata": {},
   "source": [
    "## Resumen"
   ]
  },
  {
   "cell_type": "code",
   "execution_count": 20,
   "metadata": {},
   "outputs": [],
   "source": [
    "response = openai.Completion.create(\n",
    "  model=\"text-davinci-003\",\n",
    "  prompt=\"Summarize this for a short history with 50 words:\\n\\n\"+text,\n",
    "  temperature=0.7,\n",
    "  max_tokens=256,\n",
    "  top_p=1,\n",
    "  frequency_penalty=0,\n",
    "  presence_penalty=0\n",
    ")"
   ]
  },
  {
   "cell_type": "code",
   "execution_count": 21,
   "metadata": {},
   "outputs": [],
   "source": [
    "text_resumido = list(response.values())[4][0][\"text\"]"
   ]
  },
  {
   "cell_type": "code",
   "execution_count": 22,
   "metadata": {},
   "outputs": [
    {
     "name": "stdout",
     "output_type": "stream",
     "text": [
      " happy.\n",
      "\n",
      "Today was my birthday and I spent the day with my family and friends. We had pancakes for breakfast, visited the museum of arts and sciences, and then went to my favorite restaurant for lunch, where my friends surprised me. It was a wonderful day!\n"
     ]
    }
   ],
   "source": [
    "print(text_resumido)"
   ]
  },
  {
   "attachments": {},
   "cell_type": "markdown",
   "metadata": {},
   "source": [
    "## Limpiar"
   ]
  },
  {
   "cell_type": "code",
   "execution_count": 25,
   "metadata": {},
   "outputs": [],
   "source": [
    "text_resumido = text_resumido.replace(\"\\n\",\"\")\n",
    "text_resumido = text_resumido.replace(\" \",\"+\")"
   ]
  },
  {
   "cell_type": "code",
   "execution_count": 26,
   "metadata": {},
   "outputs": [
    {
     "name": "stdout",
     "output_type": "stream",
     "text": [
      "+happy.Today+was+my+birthday+and+I+spent+the+day+with+my+family+and+friends.+We+had+pancakes+for+breakfast,+visited+the+museum+of+arts+and+sciences,+and+then+went+to+my+favorite+restaurant+for+lunch,+where+my+friends+surprised+me.+It+was+a+wonderful+day!\n"
     ]
    }
   ],
   "source": [
    "print(text_resumido)"
   ]
  },
  {
   "cell_type": "markdown",
   "metadata": {},
   "source": []
  },
  {
   "attachments": {},
   "cell_type": "markdown",
   "metadata": {},
   "source": [
    "## IMG"
   ]
  },
  {
   "cell_type": "code",
   "execution_count": 29,
   "metadata": {},
   "outputs": [],
   "source": [
    "url_lexica = \"https://lexica.art/api/v1/search?q=\"+text_resumido\n",
    "r = requests.get(url = url_lexica)\n",
    "data = r.json()\n",
    "url = data['images'][2]['src']"
   ]
  },
  {
   "cell_type": "code",
   "execution_count": 30,
   "metadata": {},
   "outputs": [
    {
     "name": "stdout",
     "output_type": "stream",
     "text": [
      "https://lexica-serve-encoded-images.sharif.workers.dev/md/04d37156-f47a-4369-b302-cd19cc5e71ca\n"
     ]
    }
   ],
   "source": [
    "print(url)"
   ]
  },
  {
   "attachments": {},
   "cell_type": "markdown",
   "metadata": {},
   "source": [
    "## LIBS"
   ]
  },
  {
   "cell_type": "code",
   "execution_count": null,
   "metadata": {},
   "outputs": [],
   "source": [
    "# ! pip3 install openai"
   ]
  }
 ],
 "metadata": {
  "kernelspec": {
   "display_name": "bot_crypto",
   "language": "python",
   "name": "python3"
  },
  "language_info": {
   "codemirror_mode": {
    "name": "ipython",
    "version": 3
   },
   "file_extension": ".py",
   "mimetype": "text/x-python",
   "name": "python",
   "nbconvert_exporter": "python",
   "pygments_lexer": "ipython3",
   "version": "3.9.10 (main, Apr  6 2022, 14:48:36) \n[Clang 12.0.0 (clang-1200.0.32.29)]"
  },
  "orig_nbformat": 4,
  "vscode": {
   "interpreter": {
    "hash": "0ab597b6535cdfc23b1d00d2b2172e0429214ff79c7d9807aa56341c66c5d817"
   }
  }
 },
 "nbformat": 4,
 "nbformat_minor": 2
}
